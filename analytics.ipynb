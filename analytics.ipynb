{
 "cells": [
  {
   "cell_type": "markdown",
   "metadata": {},
   "source": [
    "## 1 Setup and misc"
   ]
  },
  {
   "cell_type": "raw",
   "metadata": {
    "code_folding": []
   },
   "source": [
    "1.1 startup.py: import and setting\n",
    "1.2 magic functions (can work in IPython)\n",
    "1.3 general tips"
   ]
  },
  {
   "cell_type": "code",
   "execution_count": null,
   "metadata": {
    "code_folding": [
     0
    ],
    "collapsed": false
   },
   "outputs": [],
   "source": [
    "# 1.1 startup.py \n",
    "# import\n",
    "import pandas as pd\n",
    "import numpy as np\n",
    "#from pandas.io.json import json_normalize\n",
    "import matplotlib.pyplot as plt\n",
    "import matplotlib as mpl\n",
    "import os\n",
    "#from json import json_util, ObjectId\n",
    "#import json\n",
    "from datetime import datetime, timedelta\n",
    "#import pytz\n",
    "\n",
    "# setting\n",
    "pd.set_option('max_columns', None)\n",
    "pd.set_option('max_rows', 500)\n",
    "mpl.style.use('ggplot')\n",
    "\n",
    "# magic\n",
    "from IPython import get_ipython # in order to run in Py script\n",
    "ipython = get_ipython()\n",
    "ipython.magic(\"matplotlib inline\")"
   ]
  },
  {
   "cell_type": "code",
   "execution_count": null,
   "metadata": {
    "code_folding": [
     0
    ],
    "collapsed": true
   },
   "outputs": [],
   "source": [
    "# 1.2 magic functions\n",
    "%timeit range(1000)\n",
    "%env # list all variables"
   ]
  },
  {
   "cell_type": "code",
   "execution_count": null,
   "metadata": {
    "code_folding": [],
    "collapsed": true
   },
   "outputs": [],
   "source": [
    "# 1.3 tips\n",
    "?object # show docstring"
   ]
  },
  {
   "cell_type": "markdown",
   "metadata": {},
   "source": [
    "## 2 I/0"
   ]
  },
  {
   "cell_type": "raw",
   "metadata": {},
   "source": [
    "2.1 flat file\n",
    "2.2 xml, json\n",
    "2.4 API, web"
   ]
  },
  {
   "cell_type": "code",
   "execution_count": null,
   "metadata": {
    "code_folding": [
     0
    ],
    "collapsed": false
   },
   "outputs": [],
   "source": [
    "#2.1\n",
    "from pydataset import data\n",
    "#df = data('PlantGrowth')\n",
    "#df = data('Quake')\n",
    "df.head(100)\n",
    "asf"
   ]
  },
  {
   "cell_type": "code",
   "execution_count": null,
   "metadata": {
    "code_folding": [
     0
    ],
    "collapsed": false,
    "scrolled": true
   },
   "outputs": [],
   "source": [
    "# crate df: random, normal\n",
    "## from dict\n",
    "dict_data = {\n",
    "     'V_RND': np.random.randint(1,101,1000)\n",
    "    ,'V_NOR': np.random.normal(0, 0.1, 1000)\n",
    "    }\n",
    "df = pd.DataFrame(dict_data)\n",
    "\n",
    "#df = pd.DataFrame(np.random.randint(1,10,size=(1000,1)))\n",
    "#df = pd.DataFrame(np.random.normal(0,0.1,size=30,20))"
   ]
  },
  {
   "cell_type": "markdown",
   "metadata": {
    "code_folding": [
     0
    ]
   },
   "source": [
    "## 3 Exploration and visualization"
   ]
  },
  {
   "cell_type": "raw",
   "metadata": {},
   "source": [
    "3.1 basics: summary, sample, freq, select, slice and dice\n",
    "3.2 plot w Pandas (primary)\n",
    "    http://pandas.pydata.org/pandas-docs/stable/visualization.html\n",
    "3.3 plot w Matplotlib"
   ]
  },
  {
   "cell_type": "code",
   "execution_count": null,
   "metadata": {
    "code_folding": [
     0
    ],
    "collapsed": false
   },
   "outputs": [],
   "source": [
    "# 3.1\n",
    "#df.shape\n",
    "#df.columns\n",
    "#df.dtypes\n",
    "#df.describe()\n",
    "#series.value_counts() # freq\n",
    "#df.head(), df.tail(), df.sample() \n",
    "#series.unique(), series.nunique()\n",
    "#df.ix[1:3] # select row by index\n",
    "#df.ix[:,[1,4]] # select col by index\n",
    "#df.ix[1][1] #dicing"
   ]
  },
  {
   "cell_type": "code",
   "execution_count": null,
   "metadata": {
    "code_folding": [
     0
    ],
    "collapsed": false
   },
   "outputs": [],
   "source": [
    "# 3.2 plot w Pandas\n",
    "# Bar, Hist(Bar with continuous X), Boxplot, Area \n",
    "df.plot(kind='bar')\n",
    "df.plot.bar()\n",
    "df.plot.barh(stacked=True) #barh - horizontal\n",
    "df.hist(bins=25) # will make subplot for each col\n",
    "df.plot.hist() # all in one\n",
    "df.boxplot()\n",
    "df.plot.area()\n",
    "\n",
    "# scatter\n",
    "df.plot.scatter(x='a', y='b', c=df.c, s=df.d, alpha=.5) # alpha for transparency\n",
    "# scatter matrix\n",
    "from pandas.tools.plotting import scatter_matrix\n",
    "scatter_matrix(df, alpha=0.2, figsize=(12, 12), diagonal='hist')\n",
    "# hexbin (better than scatter when data is too dense)\n",
    "df.plot.hexbin(x='a', y='b', gridsize=25)\n",
    "df.plot.hexbin(x='a', y='b', C='z', reduce_C_function=np.max, gridsize=25)\n",
    "\n",
    "# multiple axis"
   ]
  },
  {
   "cell_type": "code",
   "execution_count": null,
   "metadata": {
    "code_folding": [],
    "collapsed": true
   },
   "outputs": [],
   "source": [
    "# 3.3\n",
    "plt.bar(gp.mean().index, gp.mean().weight)"
   ]
  },
  {
   "cell_type": "markdown",
   "metadata": {},
   "source": [
    "## 4 Data manipulation"
   ]
  },
  {
   "cell_type": "raw",
   "metadata": {},
   "source": [
    "4.1 alter: add/drop row/col, duplicates, index\n",
    "4.2 update value, apply/map function\n",
    "4.3 SQL-like join and groupby\n",
    "4.4 Format: Date/time\n",
    "4.5 Pivot"
   ]
  },
  {
   "cell_type": "code",
   "execution_count": null,
   "metadata": {
    "collapsed": false
   },
   "outputs": [],
   "source": [
    "# 4.1\n",
    "#df.drop(df.ix[[1]])\n",
    "# duplicates"
   ]
  },
  {
   "cell_type": "code",
   "execution_count": null,
   "metadata": {
    "code_folding": [],
    "collapsed": true
   },
   "outputs": [],
   "source": [
    "# 4.2\n",
    "#df.loc[conition, 'col1'] = <value> #update based on condition (of other cols)\n",
    "\n",
    "# apply and map functions: apply by col/row; map by element"
   ]
  },
  {
   "cell_type": "code",
   "execution_count": null,
   "metadata": {
    "collapsed": true
   },
   "outputs": [],
   "source": [
    "# 4.3\n",
    "# groupby\n",
    "#gp=df.groupby(['A','B'])\n",
    "#gp['c'].mean()\n",
    "#gp.agg({'C' : np.sum, 'D' : lambda x: np.std(x, ddof=1)})"
   ]
  },
  {
   "cell_type": "code",
   "execution_count": null,
   "metadata": {
    "code_folding": [
     0
    ],
    "collapsed": true
   },
   "outputs": [],
   "source": [
    "# 4.4"
   ]
  },
  {
   "cell_type": "markdown",
   "metadata": {},
   "source": [
    "## 5 Report presentation and interactivity"
   ]
  },
  {
   "cell_type": "raw",
   "metadata": {},
   "source": [
    "5.1 Plot.ly with Pandas(or Matplotlib)\n",
    "https://plot.ly/pandas/\n",
    "https://plot.ly/matplotlib/\n",
    "5.2 slides "
   ]
  },
  {
   "cell_type": "markdown",
   "metadata": {},
   "source": [
    "## 6 Hypothesis testing"
   ]
  },
  {
   "cell_type": "code",
   "execution_count": null,
   "metadata": {
    "collapsed": true
   },
   "outputs": [],
   "source": []
  },
  {
   "cell_type": "markdown",
   "metadata": {},
   "source": [
    "## 7 Regression"
   ]
  },
  {
   "cell_type": "code",
   "execution_count": null,
   "metadata": {
    "collapsed": true
   },
   "outputs": [],
   "source": []
  },
  {
   "cell_type": "markdown",
   "metadata": {},
   "source": [
    "## 8 ML"
   ]
  },
  {
   "cell_type": "raw",
   "metadata": {
    "collapsed": true
   },
   "source": [
    "3.1.2. Hypothesis testing: comparing two groups\n",
    "3.1.3. Linear models, multiple factors, and analysis of variance\n",
    "3.1.4. More visualization: seaborn for statistical exploration\n",
    "3.1.5. Testing for interactions\n",
    "3.1.6. Full code examples"
   ]
  }
 ],
 "metadata": {
  "kernelspec": {
   "display_name": "Python 2",
   "language": "python",
   "name": "python2"
  },
  "language_info": {
   "codemirror_mode": {
    "name": "ipython",
    "version": 2
   },
   "file_extension": ".py",
   "mimetype": "text/x-python",
   "name": "python",
   "nbconvert_exporter": "python",
   "pygments_lexer": "ipython2",
   "version": "2.7.12"
  }
 },
 "nbformat": 4,
 "nbformat_minor": 0
}
