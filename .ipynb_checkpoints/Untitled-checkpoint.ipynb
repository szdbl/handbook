{
 "cells": [
  {
   "cell_type": "code",
   "execution_count": 13,
   "metadata": {
    "collapsed": false
   },
   "outputs": [],
   "source": [
    "%matplotlib inline"
   ]
  },
  {
   "cell_type": "code",
   "execution_count": 14,
   "metadata": {
    "collapsed": true
   },
   "outputs": [],
   "source": [
    "from pydataset import data\n",
    "quakes = data('quakes')\n",
    "#data() # list all data sets"
   ]
  },
  {
   "cell_type": "code",
   "execution_count": 18,
   "metadata": {
    "collapsed": false
   },
   "outputs": [],
   "source": [
    "?data"
   ]
  },
  {
   "cell_type": "code",
   "execution_count": 22,
   "metadata": {
    "collapsed": true
   },
   "outputs": [
    {
     "name": "stdout",
     "output_type": "stream",
     "text": [
      "quakes\n",
      "\n",
      "PyDataset Documentation (adopted from R Documentation. The displayed examples are in R)\n",
      "\n",
      "## Locations of Earthquakes off Fiji\n",
      "\n",
      "### Description\n",
      "\n",
      "The data set give the locations of 1000 seismic events of MB > 4.0. The events\n",
      "occurred in a cube near Fiji since 1964.\n",
      "\n",
      "### Usage\n",
      "\n",
      "    \n",
      "    \n",
      "    quakes\n",
      "\n",
      "### Format\n",
      "\n",
      "A data frame with 1000 observations on 5 variables.\n",
      "\n",
      "[,1]\n",
      "\n",
      "lat\n",
      "\n",
      "numeric\n",
      "\n",
      "Latitude of event\n",
      "\n",
      "[,2]\n",
      "\n",
      "long\n",
      "\n",
      "numeric\n",
      "\n",
      "Longitude\n",
      "\n",
      "[,3]\n",
      "\n",
      "depth\n",
      "\n",
      "numeric\n",
      "\n",
      "Depth (km)\n",
      "\n",
      "[,4]\n",
      "\n",
      "mag\n",
      "\n",
      "numeric\n",
      "\n",
      "Richter Magnitude\n",
      "\n",
      "[,5]\n",
      "\n",
      "stations\n",
      "\n",
      "numeric\n",
      "\n",
      "Number of stations reporting\n",
      "\n",
      "### Details\n",
      "\n",
      "There are two clear planes of seismic activity. One is a major plate junction;\n",
      "the other is the Tonga trench off New Zealand. These data constitute a\n",
      "subsample from a larger dataset of containing 5000 observations.\n",
      "\n",
      "### Source\n",
      "\n",
      "This is one of the Harvard PRIM-H project data sets. They in turn obtained it\n",
      "from Dr. John Woodhouse, Dept. of Geophysics, Harvard University.\n",
      "\n",
      "### Examples\n",
      "\n",
      "    \n",
      "    \n",
      "    require(graphics)\n",
      "    pairs(quakes, main = \"Fiji Earthquakes, N = 1000\", cex.main = 1.2, pch = \".\")\n",
      "    \n",
      "\n",
      "\n"
     ]
    }
   ],
   "source": [
    "data('quakes',show_doc=True)"
   ]
  },
  {
   "cell_type": "code",
   "execution_count": 16,
   "metadata": {
    "collapsed": true
   },
   "outputs": [
    {
     "data": {
      "text/html": [
       "<div>\n",
       "<table border=\"1\" class=\"dataframe\">\n",
       "  <thead>\n",
       "    <tr style=\"text-align: right;\">\n",
       "      <th></th>\n",
       "      <th>lat</th>\n",
       "      <th>long</th>\n",
       "      <th>depth</th>\n",
       "      <th>mag</th>\n",
       "      <th>stations</th>\n",
       "    </tr>\n",
       "  </thead>\n",
       "  <tbody>\n",
       "    <tr>\n",
       "      <th>1</th>\n",
       "      <td>-20.42</td>\n",
       "      <td>181.62</td>\n",
       "      <td>562</td>\n",
       "      <td>4.8</td>\n",
       "      <td>41</td>\n",
       "    </tr>\n",
       "    <tr>\n",
       "      <th>2</th>\n",
       "      <td>-20.62</td>\n",
       "      <td>181.03</td>\n",
       "      <td>650</td>\n",
       "      <td>4.2</td>\n",
       "      <td>15</td>\n",
       "    </tr>\n",
       "    <tr>\n",
       "      <th>3</th>\n",
       "      <td>-26.00</td>\n",
       "      <td>184.10</td>\n",
       "      <td>42</td>\n",
       "      <td>5.4</td>\n",
       "      <td>43</td>\n",
       "    </tr>\n",
       "    <tr>\n",
       "      <th>4</th>\n",
       "      <td>-17.97</td>\n",
       "      <td>181.66</td>\n",
       "      <td>626</td>\n",
       "      <td>4.1</td>\n",
       "      <td>19</td>\n",
       "    </tr>\n",
       "    <tr>\n",
       "      <th>5</th>\n",
       "      <td>-20.42</td>\n",
       "      <td>181.96</td>\n",
       "      <td>649</td>\n",
       "      <td>4.0</td>\n",
       "      <td>11</td>\n",
       "    </tr>\n",
       "  </tbody>\n",
       "</table>\n",
       "</div>"
      ],
      "text/plain": [
       "     lat    long  depth  mag  stations\n",
       "1 -20.42  181.62    562  4.8        41\n",
       "2 -20.62  181.03    650  4.2        15\n",
       "3 -26.00  184.10     42  5.4        43\n",
       "4 -17.97  181.66    626  4.1        19\n",
       "5 -20.42  181.96    649  4.0        11"
      ]
     },
     "execution_count": 16,
     "metadata": {},
     "output_type": "execute_result"
    }
   ],
   "source": [
    "quakes.head()"
   ]
  }
 ],
 "metadata": {
  "kernelspec": {
   "display_name": "Python 2",
   "language": "python",
   "name": "python2"
  },
  "language_info": {
   "codemirror_mode": {
    "name": "ipython",
    "version": 2
   },
   "file_extension": ".py",
   "mimetype": "text/x-python",
   "name": "python",
   "nbconvert_exporter": "python",
   "pygments_lexer": "ipython2",
   "version": "2.7.12"
  }
 },
 "nbformat": 4,
 "nbformat_minor": 0
}
