{
 "cells": [
  {
   "cell_type": "markdown",
   "metadata": {
    "code_folding": [
     0
    ]
   },
   "source": [
    "## 3 Exploration and visualization"
   ]
  },
  {
   "cell_type": "raw",
   "metadata": {},
   "source": [
    "3.1 basics: summary, sample, freq, select, slice and dice\n",
    "3.2 plot w Pandas (primary)\n",
    "    http://pandas.pydata.org/pandas-docs/stable/visualization.html\n",
    "3.3 plot w Matplotlib"
   ]
  },
  {
   "cell_type": "code",
   "execution_count": null,
   "metadata": {
    "code_folding": [],
    "collapsed": false
   },
   "outputs": [],
   "source": [
    "# 3.1\n",
    "#df.shape\n",
    "#df.columns\n",
    "#df.dtypes\n",
    "#df.describe()\n",
    "#series.value_counts() # freq\n",
    "#df.head(), df.tail(), df.sample() \n",
    "#series.unique(), series.nunique()\n",
    "#df.ix[1:3] # select row by index\n",
    "#df.ix[:,[1,4]] # select col by index\n",
    "#df.ix[1][1] #dicing"
   ]
  },
  {
   "cell_type": "code",
   "execution_count": null,
   "metadata": {
    "code_folding": [
     0
    ],
    "collapsed": false
   },
   "outputs": [],
   "source": [
    "# 3.2 plot w Pandas\n",
    "# Bar, Hist(Bar with continuous X), Boxplot, Area \n",
    "df.plot(kind='bar')\n",
    "df.plot.bar()\n",
    "df.plot.barh(stacked=True) #barh - horizontal\n",
    "df.hist(bins=25) # will make subplot for each col\n",
    "df.plot.hist() # all in one\n",
    "df.boxplot()\n",
    "df.plot.area()\n",
    "\n",
    "# scatter\n",
    "df.plot.scatter(x='a', y='b', c=df.c, s=df.d, alpha=.5) # alpha for transparency\n",
    "# scatter matrix\n",
    "from pandas.tools.plotting import scatter_matrix\n",
    "scatter_matrix(df, alpha=0.2, figsize=(12, 12), diagonal='hist')\n",
    "# hexbin (better than scatter when data is too dense)\n",
    "df.plot.hexbin(x='a', y='b', gridsize=25)\n",
    "df.plot.hexbin(x='a', y='b', C='z', reduce_C_function=np.max, gridsize=25)\n",
    "\n",
    "# multiple axis"
   ]
  },
  {
   "cell_type": "code",
   "execution_count": null,
   "metadata": {
    "code_folding": [],
    "collapsed": true
   },
   "outputs": [],
   "source": [
    "# 3.3\n",
    "plt.bar(gp.mean().index, gp.mean().weight)"
   ]
  },
  {
   "cell_type": "markdown",
   "metadata": {},
   "source": [
    "## 4 Data manipulation"
   ]
  },
  {
   "cell_type": "raw",
   "metadata": {},
   "source": [
    "4.1 alter: add/drop row/col, duplicates, index\n",
    "4.2 update value, apply/map function\n",
    "4.3 SQL-like join and groupby\n",
    "4.4 Format: Date/time\n",
    "4.5 Pivot"
   ]
  },
  {
   "cell_type": "code",
   "execution_count": null,
   "metadata": {
    "collapsed": false
   },
   "outputs": [],
   "source": [
    "# 4.1\n",
    "#df.drop(df.ix[[1]])\n",
    "# duplicates"
   ]
  },
  {
   "cell_type": "code",
   "execution_count": null,
   "metadata": {
    "code_folding": [],
    "collapsed": true
   },
   "outputs": [],
   "source": [
    "# 4.2\n",
    "#df.loc[conition, 'col1'] = <value> #update based on condition (of other cols)\n",
    "\n",
    "# apply and map functions: apply by col/row; map by element"
   ]
  },
  {
   "cell_type": "code",
   "execution_count": null,
   "metadata": {
    "collapsed": true
   },
   "outputs": [],
   "source": [
    "# 4.3\n",
    "# groupby\n",
    "#gp=df.groupby(['A','B'])\n",
    "#gp['c'].mean()\n",
    "#gp.agg({'C' : np.sum, 'D' : lambda x: np.std(x, ddof=1)})"
   ]
  },
  {
   "cell_type": "code",
   "execution_count": null,
   "metadata": {
    "code_folding": [
     0
    ],
    "collapsed": true
   },
   "outputs": [],
   "source": [
    "# 4.4"
   ]
  },
  {
   "cell_type": "markdown",
   "metadata": {},
   "source": [
    "## 5 Report presentation and interactivity"
   ]
  }
 ],
 "metadata": {
  "kernelspec": {
   "display_name": "Python 2",
   "language": "python",
   "name": "python2"
  },
  "language_info": {
   "codemirror_mode": {
    "name": "ipython",
    "version": 2
   },
   "file_extension": ".py",
   "mimetype": "text/x-python",
   "name": "python",
   "nbconvert_exporter": "python",
   "pygments_lexer": "ipython2",
   "version": "2.7.12"
  }
 },
 "nbformat": 4,
 "nbformat_minor": 0
}
